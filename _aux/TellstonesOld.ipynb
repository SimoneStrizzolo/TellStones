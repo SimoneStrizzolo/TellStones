{
 "cells": [
  {
   "cell_type": "code",
   "execution_count": 9,
   "id": "e0414079-9df3-4ba1-9ca5-5ca35151dd84",
   "metadata": {},
   "outputs": [],
   "source": [
    "def insert_value(text:str, set_of_choice):\n",
    "    human_input = input(f\"{text}{\", \".join(sorted(map(str, set_of_choice)))}\")\n",
    "    return human_input\n",
    "        \n",
    "def insert_value_from_set(text:str, set_of_choice):\n",
    "    human_input = input(f\"{text}{\", \".join(sorted(map(str, set_of_choice)))}\")\n",
    "    if human_input in map(str, set_of_choice):\n",
    "        return human_input\n",
    "    else:\n",
    "        print(\"You did not write an available option.\")\n",
    "        insert_value_from_set(text, set_of_choice)\n",
    "#try:\n",
    "#    add_stone_to_board()\n",
    "#except:\n",
    "#    print(\"a\")"
   ]
  },
  {
   "cell_type": "code",
   "execution_count": 34,
   "id": "4594097b-fd80-4e33-b366-94074b6a0104",
   "metadata": {},
   "outputs": [],
   "source": [
    "import random\n",
    "import string\n",
    "\n",
    "class Stone(dict):\n",
    "    def __init__(self, value = None, hidden = False):\n",
    "        value = value or ''.join(random.choice(string.ascii_letters) for i in range(5))\n",
    "        super().__init__({\"_value\": value, \"_hidden\": hidden})\n",
    "\n",
    "    @property\n",
    "    def value(self):\n",
    "        return self[\"_value\"]\n",
    "\n",
    "    @value.setter\n",
    "    def value(self, value):\n",
    "        self[\"_value\"] = value \n",
    "\n",
    "    @property\n",
    "    def hidden(self):\n",
    "        return self[\"_hidden\"]\n",
    "\n",
    "    @hidden.setter\n",
    "    def hidden(self, value):\n",
    "        self[\"_hidden\"] = value\n",
    "\n",
    "    def __repr__(self):\n",
    "        s = \"*\" if self.hidden else self.value\n",
    "        return f\"{s}\"\n",
    "\n",
    "    def __hash__(self):\n",
    "        return hash((self.value, self.hidden))\n",
    "    \n",
    "    def flip(self):\n",
    "        self.hidden ^= True\n",
    "\n",
    "    \"\"\"def __eq__(self, other):\n",
    "        if isinstance(other, Stone):\n",
    "            return self.value == other.value and self.hidden == other.hidden\n",
    "        return False\n",
    "\"\"\"\n"
   ]
  },
  {
   "cell_type": "code",
   "execution_count": 47,
   "id": "d3f08bcb-88fd-46c3-ada8-a558ff95acd5",
   "metadata": {},
   "outputs": [],
   "source": [
    "def ToStone(arg):\n",
    "    return arg if isinstance(arg, Stone) else Stone(arg)"
   ]
  },
  {
   "cell_type": "code",
   "execution_count": 52,
   "id": "4a5f412b-124f-43f4-83cc-0f97d0e0f44b",
   "metadata": {},
   "outputs": [],
   "source": [
    "class Reserve(set):\n",
    "    def __init__(self, *args):\n",
    "        super().__init__(map(ToStone, args))\n",
    "\n",
    "    def remove(self, arg):\n",
    "        return super().remove(ToStone(arg))"
   ]
  },
  {
   "cell_type": "code",
   "execution_count": 93,
   "id": "97b5651e-c72b-4113-bd01-07446d8a9bcc",
   "metadata": {},
   "outputs": [],
   "source": [
    "class Board(list):\n",
    "    \n",
    "    def __init__(self, *args):\n",
    "        super().__init__(map(ToStone, args))\n",
    "\n",
    "    def __hash__(self):\n",
    "        return hash(tuple(self))\n",
    "\n",
    "    def reveal(self, *args):\n",
    "        if args:\n",
    "            print(*(self[i].value for i in args))\n",
    "        else:\n",
    "            print(*(s.value for s in self))\n",
    "    \n",
    "    def place(self, arg, position = \"right\"):\n",
    "        if position not in (\"left\", \"right\"):\n",
    "            raise ValueError(\"Cannot insert stone. Type 'left' or 'right'.\")\n",
    "        \n",
    "        if position == \"right\":\n",
    "            self.append(ToStone(arg))\n",
    "        if position == \"left\":\n",
    "            self.insert(0, ToStone(arg))"
   ]
  },
  {
   "cell_type": "code",
   "execution_count": 145,
   "id": "f2027d3c-7522-49f4-80f3-457bd2b37626",
   "metadata": {},
   "outputs": [],
   "source": [
    "class TellStones:\n",
    "    win_score = 3\n",
    "    \n",
    "    def __init__(self, *args, board = None, turn = \"human\", score = {\"human\": 0, \"computer\": 0}):\n",
    "        self._board = (board if isinstance(board, Board) else Board(*board)) if board else Board()\n",
    "        self._reserve = Reserve(*args) - Reserve(*self._board)\n",
    "        self._turn = turn\n",
    "        self._score = {\"human\": score[\"human\"], \"computer\": score[\"computer\"]}\n",
    "\n",
    "    def __repr__(self):\n",
    "        return f'Reserve: {self._reserve}\\nBoard: {self._board}\\nTurn: {self._turn}'\n",
    "\n",
    "    @property\n",
    "    def reserve(self):\n",
    "        return self._reserve\n",
    "\n",
    "    @property\n",
    "    def board(self):\n",
    "        return self._board\n",
    "\n",
    "    @property\n",
    "    def turn(self):\n",
    "        return self._turn\n",
    "\n",
    "    @property\n",
    "    def score(self):\n",
    "        return self._score       \n",
    "\n",
    "    def change_turn(self):\n",
    "        if self._turn == \"human\": self._turn = \"computer\"\n",
    "        else: self._turn = \"human\"\n",
    "\n",
    "    def __eq__(self, other):\n",
    "        if isinstance(other, TellStones):\n",
    "            return self.reserve == other.reserve and self.board == other.board and self.turn == self.turn\n",
    "        return False\n",
    "\n",
    "    def swap_two_stones(self, arg1, arg2):\n",
    "        self._board[arg1-1], self._board[arg2-1] = self._board[arg2-1], self._board[arg1-1]"
   ]
  },
  {
   "cell_type": "code",
   "execution_count": null,
   "id": "190ade84-6417-4fe7-8000-f33fc5da2d5a",
   "metadata": {},
   "outputs": [],
   "source": [
    "def "
   ]
  },
  {
   "cell_type": "code",
   "execution_count": 143,
   "id": "d054a2eb-40a4-44d8-979c-3a9976ebc903",
   "metadata": {},
   "outputs": [],
   "source": [
    "import unittest\n",
    "from unittest.mock import patch\n",
    "from io import StringIO\n",
    "import sys\n",
    "\n",
    "class TestTellStones(unittest.TestCase):\n",
    "    def test_swap_two_stones(self):\n",
    "        t1 = TellStones(board = [\"flag\", \"crown\"])\n",
    "        t2 = TellStones(board = [\"crown\", \"flag\"])\n",
    "        t1.swap_two_stones(1, 2)\n",
    "        self.assertEqual(t1, t2)\n",
    "\n",
    "        #Board troppo piccola\n",
    "        t = TellStones(board = [\"flag\"])\n",
    "        with self.assertRaises(IndexError): t.swap_two_stones(1,3)\n",
    "\n",
    "    def test_reveal_stone(self):\n",
    "        t = TellStones(board = [Stone(\"flag\"), Stone(\"crown\", True)])\n",
    "        captured_output = StringIO()\n",
    "        sys.stdout = captured_output\n",
    "        t.board.reveal()\n",
    "        sys.stdout = sys.__stdout__\n",
    "        self.assertEqual(captured_output.getvalue().strip(), \"flag crown\")"
   ]
  },
  {
   "cell_type": "code",
   "execution_count": 144,
   "id": "7c1381da-1904-4cd3-9301-c4c2acb7d5be",
   "metadata": {},
   "outputs": [
    {
     "name": "stderr",
     "output_type": "stream",
     "text": [
      "----------------------------------------------------------------------\n",
      "Ran 2 tests in 0.001s\n",
      "\n",
      "OK\n"
     ]
    },
    {
     "data": {
      "text/plain": [
       "<unittest.main.TestProgram at 0x1f3764c0140>"
      ]
     },
     "execution_count": 144,
     "metadata": {},
     "output_type": "execute_result"
    }
   ],
   "source": [
    "unittest.main(argv=[''], verbosity=0, exit=False)"
   ]
  }
 ],
 "metadata": {
  "kernelspec": {
   "display_name": "Python 3 (ipykernel)",
   "language": "python",
   "name": "python3"
  },
  "language_info": {
   "codemirror_mode": {
    "name": "ipython",
    "version": 3
   },
   "file_extension": ".py",
   "mimetype": "text/x-python",
   "name": "python",
   "nbconvert_exporter": "python",
   "pygments_lexer": "ipython3",
   "version": "3.12.8"
  }
 },
 "nbformat": 4,
 "nbformat_minor": 5
}
