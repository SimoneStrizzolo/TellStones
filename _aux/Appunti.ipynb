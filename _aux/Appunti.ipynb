{
 "cells": [
  {
   "cell_type": "code",
   "execution_count": 11,
   "id": "5b0723eb",
   "metadata": {},
   "outputs": [
    {
     "name": "stdout",
     "output_type": "stream",
     "text": [
      "<class 'int'>\n",
      "['__abs__', '__add__', '__and__', '__bool__', '__ceil__', '__class__', '__delattr__', '__dir__', '__divmod__', '__doc__', '__eq__', '__float__', '__floor__', '__floordiv__', '__format__', '__ge__', '__getattribute__', '__getnewargs__', '__getstate__', '__gt__', '__hash__', '__index__', '__init__', '__init_subclass__', '__int__', '__invert__', '__le__', '__lshift__', '__lt__', '__mod__', '__mul__', '__ne__', '__neg__', '__new__', '__or__', '__pos__', '__pow__', '__radd__', '__rand__', '__rdivmod__', '__reduce__', '__reduce_ex__', '__repr__', '__rfloordiv__', '__rlshift__', '__rmod__', '__rmul__', '__ror__', '__round__', '__rpow__', '__rrshift__', '__rshift__', '__rsub__', '__rtruediv__', '__rxor__', '__setattr__', '__sizeof__', '__str__', '__sub__', '__subclasshook__', '__truediv__', '__trunc__', '__xor__', 'as_integer_ratio', 'bit_count', 'bit_length', 'conjugate', 'denominator', 'from_bytes', 'imag', 'is_integer', 'numerator', 'real', 'to_bytes']\n"
     ]
    }
   ],
   "source": [
    "print(type(1))\n",
    "print(dir(1))\n",
    "# print(help(1))"
   ]
  },
  {
   "cell_type": "code",
   "execution_count": 15,
   "id": "a34bd99b",
   "metadata": {},
   "outputs": [
    {
     "name": "stdout",
     "output_type": "stream",
     "text": [
      "True\n",
      "[1, 2, 3, 4]\n"
     ]
    }
   ],
   "source": [
    "a = [1,2,3]\n",
    "b = a\n",
    "a.append(4)\n",
    "print(a is b)  # This will return True, as both 'a' and 'b' refer to the same list object.\n",
    "print(b)  # Output will be [1, 2, 3, 4]\n",
    "# The variable 'b' refers to the same list as 'a', so changes to 'a' are reflected in 'b'."
   ]
  },
  {
   "cell_type": "code",
   "execution_count": 18,
   "id": "1ae92dae-e055-42d9-8f1a-96a41b64773f",
   "metadata": {},
   "outputs": [
    {
     "name": "stdout",
     "output_type": "stream",
     "text": [
      "False False False True False 1 False\n"
     ]
    }
   ],
   "source": [
    "print(None == 0, None == set(), None == False, 0 == False, set() == False, False + 1, set() == 0)"
   ]
  },
  {
   "cell_type": "code",
   "execution_count": 19,
   "id": "85ba6bb4",
   "metadata": {},
   "outputs": [
    {
     "name": "stdout",
     "output_type": "stream",
     "text": [
      "140704766585272\n",
      "140704766585304\n",
      "[1, 2, 3, 4, 5]\n",
      "[1, 2, 3, 4, 5, 1, 2, 3, 4, 5]\n"
     ]
    }
   ],
   "source": [
    "a = 1\n",
    "print(id(a))\n",
    "a += 1\n",
    "print(id(a))\n",
    "\n",
    "a = [1, 2, 3]\n",
    "a += [4, 5]\n",
    "print(a)  # Output will be [1, 2, 3, 4, 5]\n",
    "a *= 2\n",
    "print(a)  # Output will be [1, 2, 3, 4, 5, 1, 2, 3, 4, 5]"
   ]
  },
  {
   "cell_type": "code",
   "execution_count": 23,
   "id": "c3c1f6d3",
   "metadata": {},
   "outputs": [],
   "source": [
    "t = (1, 2, [3, 4])\n",
    "#t[-1] = [5, 6]  # This will raise a TypeError because tuples are immutable.\n",
    "t[-1].append(5)  # This will work because the list inside the tuple is mutable.\n",
    "# t[-1] += [6]  # This will also work, appending 6 to the list inside the tuple.\n",
    "# Questo funziona perché la lista ha il metodo __iadd__ che modifica l'oggetto in-place."
   ]
  },
  {
   "cell_type": "code",
   "execution_count": 24,
   "id": "7b3aba4a",
   "metadata": {},
   "outputs": [
    {
     "name": "stdout",
     "output_type": "stream",
     "text": [
      "88.3 ns ± 5.48 ns per loop (mean ± std. dev. of 7 runs, 10,000,000 loops each)\n",
      "28.7 ns ± 7.42 ns per loop (mean ± std. dev. of 7 runs, 10,000,000 loops each)\n"
     ]
    }
   ],
   "source": [
    "%timeit l = [1, 2, 3, 4, 5]\n",
    "%timeit l = (1, 2, 3, 4, 5)"
   ]
  },
  {
   "cell_type": "markdown",
   "id": "7b67747c",
   "metadata": {},
   "source": [
    "Nei `dict`, la chiave deve essere un *immutable*, quindi un numero, una tupla, non una lista."
   ]
  },
  {
   "cell_type": "code",
   "execution_count": 31,
   "id": "5754c0db",
   "metadata": {},
   "outputs": [
    {
     "name": "stdout",
     "output_type": "stream",
     "text": [
      "{'Alberto': 1, 'Bianchi': 2, 'Carlo': 3} {'Alberto': 1, 'Bianchi': 2, 'Carlo': 3}\n",
      "Non trovato\n",
      "True\n",
      "True\n",
      "{'Bianchi': 2, 'Carlo': 3}\n",
      "True\n"
     ]
    }
   ],
   "source": [
    "l = [\"Alberto\", \"Bianchi\", \"Carlo\", \"Dario\"]\n",
    "p = [1, 2, 3]\n",
    "d = dict(zip(l, p))\n",
    "dd = {k:v for k, v in zip(l, p)}\n",
    "print(d, dd)\n",
    "print(d.get(\"Marco\", \"Non trovato\"))  # Output will be \"Non trovato\"\n",
    "print(1 in [1, 2, 3])  # Output will be True\n",
    "print(\"Alberto\" in d)  # Output will be True\n",
    "\n",
    "del d[\"Alberto\"]  # This will remove the key \"Alberto\" from the dictionary.\n",
    "print(d)  # Output will be {'Bianchi': 2, 'Carlo': 3, 'Dario': None}\n",
    "print(2 in d.values())  # Output will be True, as 2 is one of the values in the dictionary."
   ]
  },
  {
   "cell_type": "code",
   "execution_count": 43,
   "id": "46430aaa-9570-41af-9f21-b4ab0ed33725",
   "metadata": {},
   "outputs": [
    {
     "name": "stdout",
     "output_type": "stream",
     "text": [
      "[]\n"
     ]
    },
    {
     "data": {
      "text/plain": [
       "[2, 3]"
      ]
     },
     "execution_count": 43,
     "metadata": {},
     "output_type": "execute_result"
    }
   ],
   "source": [
    "t = set()\n",
    "print([x for x in t])\n",
    "list(map(lambda x:x+1, {1, 2}))"
   ]
  },
  {
   "cell_type": "code",
   "execution_count": null,
   "id": "13faf216",
   "metadata": {},
   "outputs": [],
   "source": [
    "help(sorted)\n",
    "sorted??\n",
    "l = [\"Alberto\", \"Bianchi\", \"Carlo\", \"Dario\"]\n",
    "p = [1, 2, 3]\n",
    "d = dict(zip(l, p))"
   ]
  },
  {
   "cell_type": "code",
   "execution_count": 50,
   "id": "777dee0f",
   "metadata": {},
   "outputs": [
    {
     "name": "stdout",
     "output_type": "stream",
     "text": [
      "{'val2': 2, 'val1': 1}\n"
     ]
    }
   ],
   "source": [
    "print(dict(sorted(d.items(), key=lambda x: x[1], reverse=True)))  # Sorts by value in descending order"
   ]
  },
  {
   "cell_type": "markdown",
   "id": "995467a2-1bfe-405b-b56b-04e9d3f88ec3",
   "metadata": {},
   "source": [
    "`__repr__` è usato per `eval()` (debugging) o `repr()` ed è formale.\n",
    "\n",
    "`__str__` è per `print` oppure `str()`."
   ]
  },
  {
   "cell_type": "markdown",
   "id": "5c85bbac-d3c0-4e48-b4c8-3289cbd1051a",
   "metadata": {},
   "source": [
    "`__eq__` ha senso quando:\n",
    "- confrontare in base a contenuto e non identità;\n",
    "- test, log, debug.\n",
    "\n",
    "`__hash__` ha senso quando:\n",
    "- usare oggetti personalizzati come chiavi di un dizionario;\n",
    "- `set` e altre strutture hash-based;\n",
    "- performance.\n",
    "\n",
    "Solitamente, se si costruire uno bisogna costruire anche l'altro. Gli oggetti hashable principali sono: `dict`, `set`, `int`, `str`, `float`, `frozenset`."
   ]
  },
  {
   "cell_type": "code",
   "execution_count": 47,
   "id": "2f3d2b83-84be-48e9-8383-6a3f8be43d97",
   "metadata": {},
   "outputs": [
    {
     "name": "stdout",
     "output_type": "stream",
     "text": [
      "Lists: [1, 2] [1, 2] [1, 2] [1, 2] ['val1', 'val2']\n",
      "Tuples: (1, 2) (1, 2) (1, 2) (1, 2) ('val1', 'val2')\n",
      "Sets: {1, 2} {1, 2} {1, 2} {1, 2} {'val2', 'val1'}\n"
     ]
    }
   ],
   "source": [
    "l = [1, 2]\n",
    "t = (1, 2)\n",
    "s = {1, 2}\n",
    "d = {\"val1\": 1, \"val2\": 2}\n",
    "print(\"Lists:\", l, list(l), list(t), list(s), list(d))\n",
    "print(\"Tuples:\", t, tuple(l), tuple(t), tuple(s), tuple(d))\n",
    "print(\"Sets:\", s, set(l), set(t), set(s), set(d))"
   ]
  },
  {
   "cell_type": "code",
   "execution_count": 48,
   "id": "2b2d2cb6-3214-46b5-b8f6-90f26458bc40",
   "metadata": {},
   "outputs": [
    {
     "name": "stdout",
     "output_type": "stream",
     "text": [
      "Args: (1, 2, 3) <class 'tuple'>\n",
      "Kwargs: {} <class 'dict'>\n",
      "Args: (1, 2, 3) <class 'tuple'>\n",
      "Kwargs: {'a': 4, 'b': 5} <class 'dict'>\n",
      "Args: ((1, 2),) <class 'tuple'>\n",
      "Kwargs: {} <class 'dict'>\n",
      "Args: ({1, 2}, {'val1': 1, 'val2': 2}) <class 'tuple'>\n",
      "Kwargs: {} <class 'dict'>\n",
      "Args: ({1, 2},) <class 'tuple'>\n",
      "Kwargs: {} <class 'dict'>\n",
      "Args: ({'val1': 1, 'val2': 2},) <class 'tuple'>\n",
      "Kwargs: {} <class 'dict'>\n",
      "Args: (1, 2, 'val1', 'val2') <class 'tuple'>\n",
      "Kwargs: {} <class 'dict'>\n",
      "Args: (1, 2) <class 'tuple'>\n",
      "Kwargs: {'val1': 1, 'val2': 2} <class 'dict'>\n"
     ]
    }
   ],
   "source": [
    "ll = {1, 2}\n",
    "dd = {\"val1\": 1, \"val2\": 2}\n",
    "def foo(*args, **kwargs):\n",
    "    print(\"Args:\", args, type(args))\n",
    "    print(\"Kwargs:\", kwargs, type(kwargs))\n",
    "\n",
    "foo(1, 2, 3)\n",
    "foo(1, 2, 3, a=4, b=5)\n",
    "foo((1, 2))\n",
    "foo(ll, dd)\n",
    "foo(ll)\n",
    "foo(dd)\n",
    "foo(*ll, *dd)\n",
    "foo(*ll, **dd)"
   ]
  }
 ],
 "metadata": {
  "kernelspec": {
   "display_name": ".conda",
   "language": "python",
   "name": "python3"
  },
  "language_info": {
   "codemirror_mode": {
    "name": "ipython",
    "version": 3
   },
   "file_extension": ".py",
   "mimetype": "text/x-python",
   "name": "python",
   "nbconvert_exporter": "python",
   "pygments_lexer": "ipython3",
   "version": "3.12.11"
  }
 },
 "nbformat": 4,
 "nbformat_minor": 5
}
