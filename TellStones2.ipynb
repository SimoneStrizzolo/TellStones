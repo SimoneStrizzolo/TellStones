{
 "cells": [
  {
   "cell_type": "code",
   "execution_count": null,
   "id": "2964a559",
   "metadata": {},
   "outputs": [],
   "source": [
    "class Stone(dict):\n",
    "    def __init__(self, name=None, hidden=False):\n",
    "        import random\n",
    "        import string\n",
    "        name = name if name else ''.join(random.choices(string.ascii_letters, k=5))\n",
    "        super().__init__({\"_name\": name, '_hidden': hidden})\n",
    "    \n",
    "    @property\n",
    "    def name(self):\n",
    "        return self['_name']\n",
    "\n",
    "    @property\n",
    "    def hidden(self):\n",
    "        return self['_hidden']\n",
    "    @hidden.setter\n",
    "    def hidden(self, arg):\n",
    "        self['_hidden'] = arg\n",
    "    \n",
    "    def __repr__(self):\n",
    "        return \"*\" if self.hidden else self.name\n",
    "    \n",
    "    def flip(self):\n",
    "        self.hidden = not self.hidden\n",
    "\n",
    "def to_stone(arg):\n",
    "    return arg if isinstance(arg, Stone) else Stone(name=arg)"
   ]
  },
  {
   "cell_type": "code",
   "execution_count": null,
   "id": "78c9de7e",
   "metadata": {},
   "outputs": [
    {
     "name": "stdout",
     "output_type": "stream",
     "text": [
      "ciao\n",
      "*\n",
      "False\n"
     ]
    }
   ],
   "source": []
  }
 ],
 "metadata": {
  "kernelspec": {
   "display_name": ".conda",
   "language": "python",
   "name": "python3"
  },
  "language_info": {
   "codemirror_mode": {
    "name": "ipython",
    "version": 3
   },
   "file_extension": ".py",
   "mimetype": "text/x-python",
   "name": "python",
   "nbconvert_exporter": "python",
   "pygments_lexer": "ipython3",
   "version": "3.12.11"
  }
 },
 "nbformat": 4,
 "nbformat_minor": 5
}
