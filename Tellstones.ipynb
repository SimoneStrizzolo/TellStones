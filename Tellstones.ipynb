{
 "cells": [
  {
   "cell_type": "code",
   "execution_count": 2,
   "id": "a0063ef3",
   "metadata": {},
   "outputs": [],
   "source": [
    "from dataclasses import dataclass, field\n",
    "import random, string\n",
    "\n",
    "@dataclass(unsafe_hash=True)\n",
    "class Stone:\n",
    "    name: str = field(default_factory = lambda: Stone._random_name())\n",
    "    hidden: bool = False\n",
    "\n",
    "    def __post_init__(self):\n",
    "        if not isinstance(self.name, str):\n",
    "            self.name = self._random_name()\n",
    "\n",
    "    def __repr__(self):\n",
    "        return \"*\" if self.hidden else self.name\n",
    "    \n",
    "    @staticmethod\n",
    "    def _random_name():\n",
    "        return ''.join(random.choices(string.ascii_letters, k=5))\n",
    "\n",
    "    @classmethod\n",
    "    def from_dict(cls, data: dict):\n",
    "        return cls(**{k: data[k] for k in cls.__dataclass_fields__ & data.keys()})\n",
    "\n",
    "    def flip(self):\n",
    "        self.hidden = not self.hidden\n",
    "\n",
    "def to_stone(arg):\n",
    "    return arg if isinstance(arg, Stone) else Stone(name=arg)"
   ]
  },
  {
   "cell_type": "code",
   "execution_count": 3,
   "id": "77062f89",
   "metadata": {},
   "outputs": [],
   "source": [
    "class Reserve(set):\n",
    "    def __init__(self, *args, length=6):\n",
    "        super().__init__((to_stone(arg) for arg in args) if args else map(to_stone, range(length)))\n",
    "    def remove_stone(self, element):\n",
    "        return super().remove(to_stone(element))"
   ]
  },
  {
   "cell_type": "code",
   "execution_count": null,
   "id": "0746d8b4",
   "metadata": {},
   "outputs": [],
   "source": [
    "class Board(list):\n",
    "    def __init__(self, *args, length=1):\n",
    "        super().__init__(map(to_stone, args) if args else map(to_stone, range(length)))\n",
    "\n",
    "    def peek(self, *args):\n",
    "        print(*(self[i-1].name for i in args)) if args else print(*(s.name for s in self))\n",
    "\n",
    "    def place(self, stone, pos=\"right\"):\n",
    "        self.append(to_stone(stone)) if pos == \"right\" else self.insert(0, to_stone(stone))\n",
    "    \n",
    "    def swap(self, pos1, pos2):\n",
    "        self[pos1-1], self[pos2-1] = self[pos2-1], self[pos1-1]"
   ]
  },
  {
   "cell_type": "code",
   "execution_count": null,
   "id": "ec22a673",
   "metadata": {},
   "outputs": [],
   "source": [
    "class TellStones:\n",
    "    def __init__(self, board:Board = Board(), reserve:Reserve = Reserve()):\n",
    "        self.board = board\n",
    "        self.reserve = reserve\n",
    "    \n",
    "    def __repr__(self):\n",
    "        return f\"Board: {self.board}\\nReserve: {self.reserve}\""
   ]
  }
 ],
 "metadata": {
  "kernelspec": {
   "display_name": ".conda",
   "language": "python",
   "name": "python3"
  },
  "language_info": {
   "codemirror_mode": {
    "name": "ipython",
    "version": 3
   },
   "file_extension": ".py",
   "mimetype": "text/x-python",
   "name": "python",
   "nbconvert_exporter": "python",
   "pygments_lexer": "ipython3",
   "version": "3.12.11"
  }
 },
 "nbformat": 4,
 "nbformat_minor": 5
}
